{
 "cells": [
  {
   "cell_type": "code",
   "execution_count": 1,
   "metadata": {},
   "outputs": [],
   "source": [
    "import heapq\n",
    "from collections import Counter\n",
    "\n",
    "import PyPDF2\n",
    "import docx\n",
    "from bs4 import BeautifulSoup\n",
    "import graphviz "
   ]
  },
  {
   "cell_type": "code",
   "execution_count": 2,
   "metadata": {},
   "outputs": [],
   "source": [
    "class Node:\n",
    "    def __init__(self, char, freq):\n",
    "        self.char = char\n",
    "        self.freq = freq\n",
    "        self.left = None\n",
    "        self.right = None\n",
    "\n",
    "    def __lt__(s1, s2):\n",
    "        return s1.freq < s2.freq\n"
   ]
  },
  {
   "cell_type": "code",
   "execution_count": 3,
   "metadata": {},
   "outputs": [],
   "source": [
    "# Read Functions \n",
    "def read_pdf(file_path):\n",
    "    pdf_text = \"\"\n",
    "    with open(file_path, 'rb') as file:\n",
    "        reader = PyPDF2.PdfReader(file)\n",
    "        for page_num in range(len(reader.pages)):\n",
    "            pdf_text += reader.pages[page_num].extract_text()\n",
    "    return pdf_text\n",
    "\n",
    "\n",
    "def read_docx(file_path):\n",
    "    doc = docx.Document(file_path)\n",
    "    doc_text = \"\"\n",
    "    for paragraph in doc.paragraphs:\n",
    "        doc_text += paragraph.text\n",
    "    return doc_text\n",
    "\n",
    "def read_html(file_path):\n",
    "    with open(file_path, 'r', encoding='utf-8') as file:\n",
    "        soup = BeautifulSoup(file, 'html.parser')\n",
    "        html_text = soup.get_text()\n",
    "    return html_text\n",
    "\n",
    "def read_txt(file_path):\n",
    "    with open(file_path, 'r', encoding='utf-8') as file:\n",
    "        txt_text = file.read()\n",
    "\n",
    "    if not txt_text.strip():\n",
    "        print(\"File is empty\")\n",
    "        exit()\n",
    "\n",
    "    return txt_text\n",
    "\n",
    "\n",
    "def read_file(file_path):\n",
    "    if file_path.endswith('.pdf'):\n",
    "        return read_pdf(file_path)\n",
    "    elif file_path.endswith('.docx'):\n",
    "        return read_docx(file_path)\n",
    "    elif file_path.endswith('.html'):\n",
    "        return read_html(file_path)\n",
    "    elif file_path.endswith('.txt'):\n",
    "        return read_txt(file_path)\n",
    "    else:\n",
    "        raise ValueError(\"Unsupported file type. Please provide a file in PDF, DOCX, HTML, or TXT format.\")\n"
   ]
  },
  {
   "cell_type": "code",
   "execution_count": null,
   "metadata": {},
   "outputs": [],
   "source": [
    "def build_huffman_tree(frequency):\n",
    "    heap = [Node(char, freq) for char, freq in frequency.items()]\n",
    "    heapq.heapify(heap)\n",
    "\n",
    "    while len(heap) > 1:\n",
    "        left = heapq.heappop(heap)\n",
    "        right = heapq.heappop(heap)\n",
    "        val = left.freq + right.freq\n",
    "        merged = Node(None, val)\n",
    "        merged.left = left\n",
    "        merged.right = right\n",
    "        heapq.heappush(heap, merged)\n",
    "\n",
    "    return heap[0]\n",
    "\n",
    "def generate_codes(root, prefix='', codebook={}):\n",
    "    if root is None:\n",
    "        return\n",
    "    if root.char is not None:\n",
    "        codebook[root.char] = prefix\n",
    "    generate_codes(root.left, prefix + '0', codebook)\n",
    "    generate_codes(root.right, prefix + '1', codebook)\n",
    "    return codebook\n",
    "\n",
    "def compress(text):\n",
    "    frequency = Counter(text)\n",
    "    if frequency == 0:\n",
    "        print(\"Empty File\")\n",
    "        exit(1)\n",
    "    huffman_tree = build_huffman_tree(frequency)\n",
    "    codebook = generate_codes(huffman_tree)\n",
    "\n",
    "    compressed_text = '.'.join(codebook[char] for char in text)\n",
    "    return compressed_text, huffman_tree, codebook\n",
    "\n",
    "def calculate_compression_ratio(original_text, compressed_text):\n",
    "    original_size = len(original_text) * 8\n",
    "    compressed_size = len(compressed_text)\n",
    "    return round(original_size / compressed_size, 2)"
   ]
  },
  {
   "cell_type": "code",
   "execution_count": 5,
   "metadata": {},
   "outputs": [],
   "source": [
    "def visualize_huffman_tree(root):\n",
    "    dot = graphviz.Digraph(format='png', engine='dot')\n",
    "    \n",
    "    def add_nodes_edges(node, parent=None):\n",
    "        if node is not None:\n",
    "            node_label = f'{node.char}:{node.freq}' if node.char else f'Freq:{node.freq}'\n",
    "            dot.node(str(id(node)), label=node_label)\n",
    "            if parent:\n",
    "                dot.edge(str(id(parent)), str(id(node)))\n",
    "            add_nodes_edges(node.left, node)\n",
    "            add_nodes_edges(node.right, node)\n",
    "    \n",
    "    add_nodes_edges(root)\n",
    "    return dot"
   ]
  },
  {
   "cell_type": "code",
   "execution_count": null,
   "metadata": {},
   "outputs": [
    {
     "name": "stdout",
     "output_type": "stream",
     "text": [
      "File: example6.txt\n",
      "Original Text: A wonderful serenity has taken possession of my entire soul, like these sweet mornings of spring which I enjoy with my whole heart. I am alone, and feel the charm of existence in this spot.\n",
      "Compressed Text: 0011110.111.00110.1001.1011.000010.011.11010.01001.000111.10101.111.1100.011.11010.011.1011.1000.0101.00000.111.0010.11011.1100.111.0101.11011.001110.011.1011.111.101001.1001.1100.1100.011.1100.1100.1000.1001.1011.111.1001.01001.111.01000.00000.111.011.1011.0101.1000.11010.011.111.1100.1001.000111.10101.000110.111.10101.1000.001110.011.111.0101.0010.011.1100.011.111.1100.00110.011.011.0101.111.01000.1001.11010.1011.1000.1011.000101.1100.111.1001.01001.111.1100.101001.11010.1000.1011.000101.111.00110.0010.1000.101000.0010.111.000100.111.011.1011.0000111.1001.00000.111.00110.1000.0101.0010.111.01000.00000.111.00110.0010.1001.10101.011.111.0010.011.11011.11010.0101.0011111.111.000100.111.11011.01000.111.11011.10101.1001.1011.011.000110.111.11011.1011.000010.111.01001.011.011.10101.111.0101.0010.011.111.101000.0010.11011.11010.01000.111.1001.01001.111.011.0000110.1000.1100.0101.011.1011.101000.011.111.1000.1011.111.0101.0010.1000.1100.111.1100.101001.1001.0101.0011111\n",
      "Compression Ratio: 1.55\n"
     ]
    },
    {
     "data": {
      "text/plain": [
       "'Digraph.gv.png'"
      ]
     },
     "execution_count": 8,
     "metadata": {},
     "output_type": "execute_result"
    }
   ],
   "source": [
    "file_path = 'example6.txt'\n",
    "text = read_file(file_path)\n",
    "\n",
    "compressed_text, huffman_tree, codebook = compress(text)\n",
    "\n",
    "compression_ratio = calculate_compression_ratio(text, compressed_text)\n",
    "print(f'File: {file_path}')\n",
    "print(\"Original Text:\", text.replace('\\n', ' '))\n",
    "print(\"Compressed Text:\", compressed_text)\n",
    "print(\"Compression Ratio:\", compression_ratio)\n",
    "\n",
    "# Visualize Huffman Tree (This will display in Jupyter Notebook)\n",
    "dot = visualize_huffman_tree(huffman_tree)\n",
    "dot.view()  # This will render the tree in the notebook"
   ]
  },
  {
   "cell_type": "code",
   "execution_count": null,
   "metadata": {},
   "outputs": [],
   "source": []
  }
 ],
 "metadata": {
  "kernelspec": {
   "display_name": "Python 3",
   "language": "python",
   "name": "python3"
  },
  "language_info": {
   "codemirror_mode": {
    "name": "ipython",
    "version": 3
   },
   "file_extension": ".py",
   "mimetype": "text/x-python",
   "name": "python",
   "nbconvert_exporter": "python",
   "pygments_lexer": "ipython3",
   "version": "3.12.4"
  }
 },
 "nbformat": 4,
 "nbformat_minor": 2
}
