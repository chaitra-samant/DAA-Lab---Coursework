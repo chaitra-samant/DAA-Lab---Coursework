{
  "nbformat": 4,
  "nbformat_minor": 0,
  "metadata": {
    "colab": {
      "provenance": []
    },
    "kernelspec": {
      "name": "python3",
      "display_name": "Python 3"
    },
    "language_info": {
      "name": "python"
    }
  },
  "cells": [
    {
      "cell_type": "code",
      "execution_count": null,
      "metadata": {
        "id": "Fw8TyDIXyDCk"
      },
      "outputs": [],
      "source": [
        "# S : Single Responsibility Principle\n",
        "# Incorrect Approach\n",
        "class User:\n",
        "    def create_user(self, user):\n",
        "        print(f\"User {user} created in the database.\")\n",
        "\n",
        "    def send_welcome_email(self, user):\n",
        "        print(f\"Welcome email sent to {user}.\")\n",
        "\n",
        "    def log_user_activity(self, user):\n",
        "        print(f\"User activity logged for {user}.\")\n",
        "\n",
        "\n",
        "# Correct Approach\n",
        "class User:\n",
        "    def save(self, user):\n",
        "        print(f\"User {user} saved to the database.\")\n",
        "\n",
        "class EmailService:\n",
        "    def send_email(self, user):\n",
        "        print(f\"Sending welcome email to {user}.\")\n",
        "\n",
        "class ActivityLogger:\n",
        "    def log(self, user):\n",
        "        print(f\"Activity logged for user {user}.\")\n"
      ]
    },
    {
      "cell_type": "code",
      "source": [
        "# O : Open/Close Principle\n",
        "# Incorrect Approach\n",
        "class ShapeManager:\n",
        "    def calculate_area(self, shape):\n",
        "        if isinstance(shape, Circle):\n",
        "            return 3.14 * shape.radius ** 2\n",
        "        elif isinstance(shape, Rectangle):\n",
        "            return shape.width * shape.height\n",
        "\n",
        "# Correct Approach\n",
        "class Shape:\n",
        "    def calculate_area(self):\n",
        "        pass\n",
        "\n",
        "class Circle(Shape):\n",
        "    def __init__(self, radius):\n",
        "        self.radius = radius\n",
        "\n",
        "    def calculate_area(self):\n",
        "        return 3.14 * self.radius ** 2\n",
        "\n",
        "class Rectangle(Shape):\n",
        "    def __init__(self, width, height):\n",
        "        self.width = width\n",
        "        self.height = height\n",
        "\n",
        "    def calculate_area(self):\n",
        "        return self.width * self.height\n"
      ],
      "metadata": {
        "id": "WUErIQlByfIh"
      },
      "execution_count": null,
      "outputs": []
    },
    {
      "cell_type": "code",
      "source": [
        "# L : Liskov Substitution Principle\n",
        "# Incorrect Approach\n",
        "class Bird:\n",
        "    def fly(self):\n",
        "        print(\"Flying in the sky.\")\n",
        "\n",
        "class Ostrich(Bird):\n",
        "    def fly(self):\n",
        "        raise Exception(\"Ostriches can't fly.\")\n",
        "\n",
        "\n",
        "# Correct Approach\n",
        "class Bird:\n",
        "    def eats(self):\n",
        "        print(\"Eating...\")\n",
        "\n",
        "class FlyingBird(Bird):\n",
        "    def fly(self):\n",
        "        print(\"Flying in the sky.\")\n",
        "\n",
        "class Ostrich(Bird):\n",
        "    def move(self):\n",
        "        print(\"Running on the ground.\")\n",
        "\n"
      ],
      "metadata": {
        "id": "ZgqMJ-sly3Kv"
      },
      "execution_count": null,
      "outputs": []
    },
    {
      "cell_type": "code",
      "source": [
        "# I : Interface Segregation Principle\n",
        "# Incorrect Approach\n",
        "class Machine:\n",
        "    def print(self):\n",
        "        print(\"Printing document...\")\n",
        "\n",
        "    def fax(self):\n",
        "        print(\"Sending fax...\")\n",
        "\n",
        "    def scan(self):\n",
        "        print(\"Scanning document...\")\n",
        "\n",
        "\n",
        "# Correct Approach\n",
        "class Printer:\n",
        "    def print(self):\n",
        "        print(\"Printing document...\")\n",
        "\n",
        "class Scanner:\n",
        "    def scan(self):\n",
        "        print(\"Scanning document...\")\n",
        "\n",
        "class Fax:\n",
        "    def fax(self):\n",
        "        print(\"Sending fax...\")\n",
        "\n"
      ],
      "metadata": {
        "id": "tdwbBIx1zCSW"
      },
      "execution_count": null,
      "outputs": []
    },
    {
      "cell_type": "code",
      "source": [
        "# D : Dependency Inversion Principle\n",
        "# Incorrect Approach\n",
        "class EmailService:\n",
        "    def send(self, message):\n",
        "        print(\"Sending email:\", message)\n",
        "\n",
        "class Notification:\n",
        "    def __init__(self):\n",
        "        self.email_service = EmailService()\n",
        "\n",
        "    def notify(self, message):\n",
        "        self.email_service.send(message)\n",
        "\n",
        "\n",
        "# Correct Approach\n",
        "class MessageService:\n",
        "    def send(self, message):\n",
        "        raise NotImplementedError(\"Subclasses must implement send.\")\n",
        "\n",
        "class EmailService(MessageService):\n",
        "    def send(self, message):\n",
        "        print(\"Sending email:\", message)\n",
        "\n",
        "class SMSService(MessageService):\n",
        "    def send(self, message):\n",
        "        print(\"Sending SMS:\", message)\n",
        "\n",
        "class Notification:\n",
        "    def __init__(self, service: MessageService):\n",
        "        self.service = service\n",
        "\n",
        "    def notify(self, message):\n",
        "        self.service.send(message)\n",
        "\n"
      ],
      "metadata": {
        "id": "Wc4en3aTzQs_"
      },
      "execution_count": null,
      "outputs": []
    },
    {
      "cell_type": "code",
      "source": [],
      "metadata": {
        "id": "scvulg2TzofN"
      },
      "execution_count": null,
      "outputs": []
    }
  ]
}