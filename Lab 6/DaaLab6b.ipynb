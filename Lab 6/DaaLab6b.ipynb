{
  "nbformat": 4,
  "nbformat_minor": 0,
  "metadata": {
    "colab": {
      "provenance": []
    },
    "kernelspec": {
      "name": "python3",
      "display_name": "Python 3"
    },
    "language_info": {
      "name": "python"
    }
  },
  "cells": [
    {
      "cell_type": "code",
      "source": [
        "def validate_dimensions(dimensions: list) -> None:\n",
        "    \"\"\"\n",
        "    Validates the matrix dimensions list.\n",
        "    \"\"\"\n",
        "    # (SRP): This function is solely responsible for validating the dimensions input.\n",
        "    if not dimensions:\n",
        "        raise ValueError(\"Error: Input list is empty.\")\n",
        "    if any(d <= 0 for d in dimensions):\n",
        "        raise ValueError(\"All matrix dimensions must be positive integers.\")\n",
        "    if any(d != int(d) for d in dimensions):\n",
        "        raise ValueError(\"All matrix dimensions must be integers.\")\n",
        "\n",
        "\n",
        "def matrix_chain_order(p: list) -> tuple:\n",
        "    \"\"\"\n",
        "    Implements the Matrix-Chain-Order algorithm using bottom-up dynamic programming.\n",
        "\n",
        "    Args:\n",
        "        p: List of dimensions where matrix i has dimensions p[i-1] x p[i].\n",
        "\n",
        "    Returns:\n",
        "        Tuple of (m, s) tables where:\n",
        "        m: Table containing optimal costs.\n",
        "        s: Table containing optimal split points.\n",
        "    \"\"\"\n",
        "    # (SRP): This function is dedicated to computing the matrix chain multiplication using dynamic programming.\n",
        "    n = len(p) - 1\n",
        "    m = [[float('inf')] * (n + 1) for _ in range(n + 1)]\n",
        "    s = [[0] * (n + 1) for _ in range(n + 1)]\n",
        "\n",
        "    for i in range(1, n + 1):\n",
        "        m[i][i] = 0\n",
        "\n",
        "\n",
        "    for l in range(2, n + 1):\n",
        "        for i in range(1, n - l + 2):\n",
        "            j = i + l - 1\n",
        "            for k in range(i, j):\n",
        "                q = m[i][k] + m[k + 1][j] + p[i - 1] * p[k] * p[j]\n",
        "                if q < m[i][j]:\n",
        "                    m[i][j] = q\n",
        "                    s[i][j] = k\n",
        "\n",
        "    return m, s\n",
        "\n",
        "\n",
        "def print_optimal_parens(s: list, i: int, j: int) -> str:\n",
        "    \"\"\"\n",
        "    Recursively constructs the optimal parenthesization of the matrix chain.\n",
        "\n",
        "    Args:\n",
        "        s: Split points table.\n",
        "        i: Start index.\n",
        "        j: End index.\n",
        "\n",
        "    Returns:\n",
        "        A string representing the optimal parenthesization.\n",
        "    \"\"\"\n",
        "    # (SRP): This function is dedicated to constructing the optimal parenthesization of the matrix chain.\n",
        "    if i == j:\n",
        "        return f'A{i}'\n",
        "    return f'({print_optimal_parens(s, i, s[i][j])} × {print_optimal_parens(s, s[i][j] + 1, j)})'\n",
        "\n",
        "\n",
        "def display_results(min_cost: int, optimal_parens: str) -> None:\n",
        "    \"\"\"\n",
        "    Displays the computation results in a standard format.\n",
        "    \"\"\"\n",
        "    # (SRP): This function is focused solely on displaying the results.\n",
        "    print(f\"Minimum number of multiplications: {min_cost}\")\n",
        "    print(f\"Optimal parenthesization: {optimal_parens}\")\n",
        "\n",
        "\n",
        "def process_matrix_chain(dimensions: list) -> None:\n",
        "    \"\"\"\n",
        "    Processes the matrix chain multiplication problem.\n",
        "\n",
        "    Args:\n",
        "        dimensions: List of matrix dimensions.\n",
        "    \"\"\"\n",
        "    # (DIP): This function depends on the abstract behavior of `validate_dimensions`, `matrix_chain_order`, etc., and not on their implementation details.\n",
        "\n",
        "    # Validate input dimensions\n",
        "    validate_dimensions(dimensions)\n",
        "\n",
        "    # Perform computation\n",
        "    m, s = matrix_chain_order(dimensions)\n",
        "    n = len(dimensions) - 1\n",
        "    min_cost = m[1][n]\n",
        "    optimal_parenthesization = print_optimal_parens(s, 1, n)\n",
        "\n",
        "    # Display results\n",
        "    display_results(min_cost, optimal_parenthesization)\n",
        "\n",
        "\n",
        "# Driver Code\n",
        "if __name__ == \"__main__\":\n",
        "    dimensions = [10,20,30,40,50]\n",
        "\n",
        "    process_matrix_chain(dimensions)\n"
      ],
      "metadata": {
        "id": "Y3BeCc7x90zq",
        "colab": {
          "base_uri": "https://localhost:8080/"
        },
        "outputId": "9d161836-f3db-4c38-cc47-948ae82ca8d9"
      },
      "execution_count": null,
      "outputs": [
        {
          "output_type": "stream",
          "name": "stdout",
          "text": [
            "Minimum number of multiplications: 38000\n",
            "Optimal parenthesization: (((A1 × A2) × A3) × A4)\n"
          ]
        }
      ]
    },
    {
      "cell_type": "code",
      "source": [],
      "metadata": {
        "id": "yUHT2Jgg4vdr"
      },
      "execution_count": null,
      "outputs": []
    }
  ]
}